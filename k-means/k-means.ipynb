{
 "cells": [
  {
   "cell_type": "code",
   "execution_count": 1,
   "metadata": {},
   "outputs": [],
   "source": [
    "import pandas as pd\n",
    "import numpy as np\n",
    "from scipy.spatial import distance\n",
    "import random\n",
    "from statistics import mean\n",
    "import matplotlib.pyplot as plt"
   ]
  },
  {
   "cell_type": "code",
   "execution_count": 2,
   "metadata": {},
   "outputs": [
    {
     "data": {
      "text/html": [
       "<div>\n",
       "<style scoped>\n",
       "    .dataframe tbody tr th:only-of-type {\n",
       "        vertical-align: middle;\n",
       "    }\n",
       "\n",
       "    .dataframe tbody tr th {\n",
       "        vertical-align: top;\n",
       "    }\n",
       "\n",
       "    .dataframe thead th {\n",
       "        text-align: right;\n",
       "    }\n",
       "</style>\n",
       "<table border=\"1\" class=\"dataframe\">\n",
       "  <thead>\n",
       "    <tr style=\"text-align: right;\">\n",
       "      <th></th>\n",
       "      <th>X1</th>\n",
       "      <th>X2</th>\n",
       "    </tr>\n",
       "  </thead>\n",
       "  <tbody>\n",
       "    <tr>\n",
       "      <th>0</th>\n",
       "      <td>5.9</td>\n",
       "      <td>3.2</td>\n",
       "    </tr>\n",
       "    <tr>\n",
       "      <th>1</th>\n",
       "      <td>4.6</td>\n",
       "      <td>2.9</td>\n",
       "    </tr>\n",
       "    <tr>\n",
       "      <th>2</th>\n",
       "      <td>6.2</td>\n",
       "      <td>2.8</td>\n",
       "    </tr>\n",
       "    <tr>\n",
       "      <th>3</th>\n",
       "      <td>4.7</td>\n",
       "      <td>3.2</td>\n",
       "    </tr>\n",
       "    <tr>\n",
       "      <th>4</th>\n",
       "      <td>5.5</td>\n",
       "      <td>4.2</td>\n",
       "    </tr>\n",
       "  </tbody>\n",
       "</table>\n",
       "</div>"
      ],
      "text/plain": [
       "    X1   X2\n",
       "0  5.9  3.2\n",
       "1  4.6  2.9\n",
       "2  6.2  2.8\n",
       "3  4.7  3.2\n",
       "4  5.5  4.2"
      ]
     },
     "execution_count": 2,
     "metadata": {},
     "output_type": "execute_result"
    }
   ],
   "source": [
    "data = pd.read_csv('kmeans.csv')\n",
    "data.head()"
   ]
  },
  {
   "cell_type": "code",
   "execution_count": 3,
   "metadata": {},
   "outputs": [],
   "source": [
    "class KmeansClustering():\n",
    "    def __init__(self):\n",
    "        self.k=2\n",
    "        \n",
    "    def initializeMeans(self, k):\n",
    "        means = np.empty([k,2], dtype=float)\n",
    "        range1 = np.array([np.min(data['X1']), np.max(data['X1'])])\n",
    "        range2 = np.array([np.min(data['X2']), np.max(data['X2'])])\n",
    "        \n",
    "        for i in range(self.k):\n",
    "            x1 = random.uniform(range1[0], range1[1])\n",
    "            x2 = random.uniform(range2[0], range2[1])\n",
    "            means[i] = np.array([x1,x2])\n",
    "        return means\n",
    "    \n",
    "    def Classify(self, means):\n",
    "        list1 = [[],[]]\n",
    "        dist = np.empty([len(data), self.k], dtype=float)\n",
    "        for i in range(len(data)):\n",
    "            for j in range(self.k):\n",
    "                dist[i][j] = distance.euclidean(means[j], data.iloc[i])\n",
    "        for i in range(len(data)):\n",
    "            for j in range(self.k):\n",
    "                if(min(dist[i]) == distance.euclidean(means[j], data.iloc[i])):\n",
    "                    list1[j].append(data.iloc[i])\n",
    "        return np.array(list1)\n",
    "    \n",
    "    def reInitializeMeans(self, clusters, means):\n",
    "        for j in range(self.k):\n",
    "            min_means = []\n",
    "            for l in range(2):\n",
    "                add = 0\n",
    "                for i in range(len(clusters[j])):\n",
    "                    add = add+clusters[j][i][l]\n",
    "                mean = add/len(clusters[j])\n",
    "                min_means.append(mean)\n",
    "            means[j] = np.array(min_means)\n",
    "        return means\n",
    "    \n",
    "    def train(self):\n",
    "        temp = np.empty([self.k,2], dtype=float)\n",
    "        means = self.initializeMeans(self.k)\n",
    "        iteration = 0\n",
    "        while(1):\n",
    "            clusters=self.Classify(means)\n",
    "            if(iteration>=1000):\n",
    "                break\n",
    "            for i in range(self.k):\n",
    "                for j in range(2):\n",
    "                    temp[i][j] = means[i][j]\n",
    "            means=self.reInitializeMeans(clusters, means)\n",
    "            iteration=iteration+1\n",
    "        print(clusters)\n",
    "        return clusters\n",
    "        \n",
    "    def plot(self, clusters):\n",
    "        for i in range(self.k):\n",
    "            for j in range(len(clusters[i])):\n",
    "                if(i==0):\n",
    "                    plt.scatter(clusters[i][j][0], clusters[i][j][1], c='red')\n",
    "                else:\n",
    "                    plt.scatter(clusters[i][j][0], clusters[i][j][1], c='green')"
   ]
  },
  {
   "cell_type": "code",
   "execution_count": 4,
   "metadata": {},
   "outputs": [],
   "source": [
    "model = KmeansClustering()"
   ]
  },
  {
   "cell_type": "code",
   "execution_count": 5,
   "metadata": {},
   "outputs": [
    {
     "name": "stdout",
     "output_type": "stream",
     "text": [
      "[list([X1    5.9\n",
      "X2    3.2\n",
      "Name: 0, dtype: float64, X1    6.2\n",
      "X2    2.8\n",
      "Name: 2, dtype: float64, X1    6.7\n",
      "X2    3.1\n",
      "Name: 7, dtype: float64, X1    6.0\n",
      "X2    3.0\n",
      "Name: 9, dtype: float64])\n",
      " list([X1    4.6\n",
      "X2    2.9\n",
      "Name: 1, dtype: float64, X1    4.7\n",
      "X2    3.2\n",
      "Name: 3, dtype: float64, X1    5.5\n",
      "X2    4.2\n",
      "Name: 4, dtype: float64, X1    5.0\n",
      "X2    3.0\n",
      "Name: 5, dtype: float64, X1    4.9\n",
      "X2    3.1\n",
      "Name: 6, dtype: float64, X1    5.1\n",
      "X2    3.8\n",
      "Name: 8, dtype: float64])]\n"
     ]
    }
   ],
   "source": [
    "clusters = model.train()"
   ]
  },
  {
   "cell_type": "code",
   "execution_count": 6,
   "metadata": {},
   "outputs": [
    {
     "data": {
      "image/png": "[encoded data removed]",
      "text/plain": [
       "<Figure size 432x288 with 1 Axes>"
      ]
     },
     "metadata": {
      "needs_background": "light"
     },
     "output_type": "display_data"
    }
   ],
   "source": [
    "model.plot(clusters)"
   ]
  }
 ],
 "metadata": {
  "kernelspec": {
   "display_name": "Python 3",
   "language": "python",
   "name": "python3"
  },
  "language_info": {
   "codemirror_mode": {
    "name": "ipython",
    "version": 3
   },
   "file_extension": ".py",
   "mimetype": "text/x-python",
   "name": "python",
   "nbconvert_exporter": "python",
   "pygments_lexer": "ipython3",
   "version": "3.8.3"
  }
 },
 "nbformat": 4,
 "nbformat_minor": 4
}
